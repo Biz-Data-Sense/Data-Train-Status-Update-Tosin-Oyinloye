{
 "cells": [
  {
   "cell_type": "code",
   "execution_count": 1,
   "metadata": {},
   "outputs": [],
   "source": [
    "import requests"
   ]
  },
  {
   "cell_type": "code",
   "execution_count": 2,
   "metadata": {},
   "outputs": [],
   "source": [
    "url = 'https://www.nigeriapropertycentre.com/for-sale/houses?q=for-sale+houses'\n",
    "page = requests.get(url)"
   ]
  },
  {
   "cell_type": "code",
   "execution_count": 3,
   "metadata": {},
   "outputs": [],
   "source": [
    "from bs4 import BeautifulSoup\n",
    "soup = BeautifulSoup(page.content, 'html.parser')"
   ]
  },
  {
   "cell_type": "code",
   "execution_count": 4,
   "metadata": {},
   "outputs": [],
   "source": [
    "items = soup.find_all('div', {'class' : 'col-md-12'})"
   ]
  },
  {
   "cell_type": "code",
   "execution_count": 5,
   "metadata": {},
   "outputs": [],
   "source": [
    "import pandas as pd\n",
    "import csv   \n",
    "import datetime"
   ]
  },
  {
   "cell_type": "code",
   "execution_count": null,
   "metadata": {},
   "outputs": [],
   "source": [
    "end_page_num = 23\n",
    "\n",
    "filename = \"nigeriaprop_houses.csv\"\n",
    "with open(filename, \"w+\") as f:\n",
    "\n",
    "    writer = csv.writer(f)\n",
    "    writer.writerow([\"Listing_type\", 'Location', \"Price\",\"Bedroom\", 'Bathroom', 'Toilet', 'Parking'])\n",
    "    i = 1\n",
    "    while i <= end_page_num:\n",
    "\n",
    "        r = requests.get(\"https://www.nigeriapropertycentre.com/for-sale/houses?q=for-sale+houses?page={}\".format(i))\n",
    "\n",
    "        soup = BeautifulSoup(r.text, \"html.parser\")\n",
    "        items = soup.find_all('div', {'class' : 'col-md-12'})\n",
    "        x = items[2:]\n",
    "        \n",
    "        for item in x:\n",
    "            try:\n",
    "                Listing_type = item.find('span').get_text()\n",
    "            except:\n",
    "                Listing_type = 'N/A'\n",
    "            try:\n",
    "                price = item.find_all('span', {'class' : \"price\"})\n",
    "                Price = price[1].get_text()\n",
    "            except:\n",
    "                Price = '0'\n",
    "            try:\n",
    "                Location = item.find('address').get_text()\n",
    "            except:\n",
    "                Location = 'N/A'\n",
    "            try:\n",
    "                footer = item.find('div', {'class' :\"wp-block-footer\"})\n",
    "                specs = footer.find_all('span')\n",
    "                try:\n",
    "                    Bedroom = specs[0].get_text()\n",
    "                except:\n",
    "                    Bedroom = '0'\n",
    "                try:\n",
    "                    Bathroom = specs[2].get_text()\n",
    "                except:\n",
    "                    Bathroom = '0'\n",
    "                try:\n",
    "                    Toilet = specs[4].get_text()\n",
    "                except:\n",
    "                    Toilet = '0'\n",
    "                try:\n",
    "                    Parking = specs[6].get_text()\n",
    "                except:\n",
    "                    Parking = '0'\n",
    "            except:\n",
    "                footer = 'N/A'\n",
    "\n",
    "            writer.writerow([Listing_type, Location, Price, Bedroom, Bathroom, Toilet, Parking])\n",
    "        i += 1"
   ]
  },
  {
   "cell_type": "code",
   "execution_count": null,
   "metadata": {},
   "outputs": [],
   "source": [
    "houses = pd.read_csv(\"nigeriaprop_houses.csv\")"
   ]
  }
 ],
 "metadata": {
  "kernelspec": {
   "display_name": "Python 3",
   "language": "python",
   "name": "python3"
  },
  "language_info": {
   "codemirror_mode": {
    "name": "ipython",
    "version": 3
   },
   "file_extension": ".py",
   "mimetype": "text/x-python",
   "name": "python",
   "nbconvert_exporter": "python",
   "pygments_lexer": "ipython3",
   "version": "3.7.1"
  }
 },
 "nbformat": 4,
 "nbformat_minor": 2
}
