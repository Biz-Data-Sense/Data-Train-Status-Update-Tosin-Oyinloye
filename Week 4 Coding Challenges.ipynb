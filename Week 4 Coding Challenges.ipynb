{
 "cells": [
  {
   "cell_type": "markdown",
   "metadata": {},
   "source": [
    "1. FUNCTION THAT RETURNS THE MAXIMUM OF TWO NUMBERS"
   ]
  },
  {
   "cell_type": "code",
   "execution_count": 3,
   "metadata": {},
   "outputs": [
    {
     "data": {
      "text/plain": [
       "7"
      ]
     },
     "execution_count": 3,
     "metadata": {},
     "output_type": "execute_result"
    }
   ],
   "source": [
    "def max_no (x,y):\n",
    "    \n",
    "    m = (x,y)\n",
    "    \n",
    "    return max(m)\n",
    "\n",
    "#call function with sample parameters  \n",
    "max_no(5,7)\n"
   ]
  },
  {
   "cell_type": "markdown",
   "metadata": {},
   "source": [
    "2. FUNCTION FOR CHECKING SPEED OF DRIVERS"
   ]
  },
  {
   "cell_type": "code",
   "execution_count": 34,
   "metadata": {},
   "outputs": [
    {
     "name": "stdout",
     "output_type": "stream",
     "text": [
      "OK\n"
     ]
    }
   ],
   "source": [
    "def speed_check (s):\n",
    "      \n",
    "        u = (s-70)/5\n",
    "        p,d = divmod (u, 1)\n",
    "\n",
    "        if p <= 0:\n",
    "            print(\"OK\")\n",
    "        elif p <= 12:\n",
    "                print(\"Points:\", p)\n",
    "\n",
    "        else:\n",
    "            print(\"License Suspended\")\n",
    "driver_speed(60)\n",
    "            "
   ]
  },
  {
   "cell_type": "markdown",
   "metadata": {},
   "source": [
    "3. Function that returns the sum of multiples of 3 and 5 between 0 and limit (parameter)"
   ]
  },
  {
   "cell_type": "code",
   "execution_count": 10,
   "metadata": {},
   "outputs": [
    {
     "name": "stdout",
     "output_type": "stream",
     "text": [
      "0 EVEN\n",
      "1 ODD\n",
      "2 EVEN\n",
      "3 ODD\n"
     ]
    }
   ],
   "source": [
    "#Let L be Limit\n",
    "\n",
    "def ShowNumbers (L):\n",
    "    \n",
    "    for L in range (0,L + 1):\n",
    "        \n",
    "        if (L % 2 == 0):\n",
    "            \n",
    "            print(L, \"EVEN\")\n",
    "        \n",
    "        else:\n",
    "            print (L, \"ODD\")\n",
    "ShowNumbers (3)"
   ]
  },
  {
   "cell_type": "markdown",
   "metadata": {},
   "source": [
    "4. A function that returns the sum of multiples of 3 and 5 between 0 and limit (parameter)"
   ]
  },
  {
   "cell_type": "code",
   "execution_count": 41,
   "metadata": {},
   "outputs": [
    {
     "data": {
      "text/plain": [
       "20"
      ]
     },
     "execution_count": 41,
     "metadata": {},
     "output_type": "execute_result"
    }
   ],
   "source": [
    "def func (L):\n",
    "        \n",
    "        sum = 0\n",
    "        \n",
    "        while (L % 3 == 0) or (L % 5 == 0):\n",
    "            \n",
    "            sum+=L\n",
    "            L-=1\n",
    "            \n",
    "            return sum\n",
    "                               \n",
    "func(20)"
   ]
  },
  {
   "cell_type": "markdown",
   "metadata": {},
   "source": [
    "5. A function called show_stars(rows)  "
   ]
  },
  {
   "cell_type": "code",
   "execution_count": 42,
   "metadata": {},
   "outputs": [
    {
     "name": "stdout",
     "output_type": "stream",
     "text": [
      "*\n",
      "**\n",
      "***\n",
      "****\n",
      "*****\n"
     ]
    }
   ],
   "source": [
    "def show_stars(rows):\n",
    "    \n",
    "    if (rows==5):\n",
    "        \n",
    "        for rows in range (1,rows+1):\n",
    "            \n",
    "            print('*'*rows)\n",
    "show_stars(5)"
   ]
  },
  {
   "cell_type": "code",
   "execution_count": null,
   "metadata": {},
   "outputs": [],
   "source": []
  }
 ],
 "metadata": {
  "kernelspec": {
   "display_name": "Python 3",
   "language": "python",
   "name": "python3"
  },
  "language_info": {
   "codemirror_mode": {
    "name": "ipython",
    "version": 3
   },
   "file_extension": ".py",
   "mimetype": "text/x-python",
   "name": "python",
   "nbconvert_exporter": "python",
   "pygments_lexer": "ipython3",
   "version": "3.7.1"
  }
 },
 "nbformat": 4,
 "nbformat_minor": 2
}
